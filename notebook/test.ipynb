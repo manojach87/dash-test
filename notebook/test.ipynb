{
 "cells": [
  {
   "cell_type": "code",
   "execution_count": 2,
   "metadata": {},
   "outputs": [
    {
     "name": "stdout",
     "output_type": "stream",
     "text": [
      "Requirement already satisfied: dash-mantine-components in /Users/manoj/anaconda3/envs/pyspark/lib/python3.9/site-packages (0.12.1)\n",
      "Collecting dash\n",
      "  Downloading dash-2.12.1-py3-none-any.whl (10.4 MB)\n",
      "\u001b[K     |████████████████████████████████| 10.4 MB 1.3 MB/s eta 0:00:01    |███████████████████████████▌    | 8.9 MB 1.3 MB/s eta 0:00:02\n",
      "\u001b[?25hRequirement already satisfied: plotly>=5.0.0 in /Users/manoj/anaconda3/envs/pyspark/lib/python3.9/site-packages (from dash) (5.3.1)\n",
      "Requirement already satisfied: requests in /Users/manoj/anaconda3/envs/pyspark/lib/python3.9/site-packages (from dash) (2.26.0)\n",
      "Requirement already satisfied: setuptools in /Users/manoj/anaconda3/envs/pyspark/lib/python3.9/site-packages (from dash) (51.3.3.post20210118)\n",
      "Requirement already satisfied: nest-asyncio in /Users/manoj/anaconda3/envs/pyspark/lib/python3.9/site-packages (from dash) (1.4.3)\n",
      "Collecting dash-core-components==2.0.0\n",
      "  Downloading dash_core_components-2.0.0-py3-none-any.whl (3.8 kB)\n",
      "Collecting dash-html-components==2.0.0\n",
      "  Downloading dash_html_components-2.0.0-py3-none-any.whl (4.1 kB)\n",
      "Collecting dash-table==5.0.0\n",
      "  Downloading dash_table-5.0.0-py3-none-any.whl (3.9 kB)\n",
      "Collecting Flask<2.3.0,>=1.0.4\n",
      "  Downloading Flask-2.2.5-py3-none-any.whl (101 kB)\n",
      "\u001b[K     |████████████████████████████████| 101 kB 5.3 MB/s eta 0:00:01\n",
      "\u001b[?25hRequirement already satisfied: click>=8.0 in /Users/manoj/anaconda3/envs/pyspark/lib/python3.9/site-packages (from Flask<2.3.0,>=1.0.4->dash) (8.0.1)\n",
      "Collecting importlib-metadata>=3.6.0\n",
      "  Downloading importlib_metadata-6.8.0-py3-none-any.whl (22 kB)\n",
      "Requirement already satisfied: zipp>=0.5 in /Users/manoj/anaconda3/envs/pyspark/lib/python3.9/site-packages (from importlib-metadata>=3.6.0->Flask<2.3.0,>=1.0.4->dash) (3.4.0)\n",
      "Collecting itsdangerous>=2.0\n",
      "  Downloading itsdangerous-2.1.2-py3-none-any.whl (15 kB)\n",
      "Collecting Jinja2>=3.0\n",
      "  Downloading Jinja2-3.1.2-py3-none-any.whl (133 kB)\n",
      "\u001b[K     |████████████████████████████████| 133 kB 15.8 MB/s eta 0:00:01\n",
      "\u001b[?25hCollecting MarkupSafe>=2.0\n",
      "  Downloading MarkupSafe-2.1.3-cp39-cp39-macosx_10_9_x86_64.whl (13 kB)\n",
      "Requirement already satisfied: tenacity>=6.2.0 in /Users/manoj/anaconda3/envs/pyspark/lib/python3.9/site-packages (from plotly>=5.0.0->dash) (8.0.1)\n",
      "Requirement already satisfied: six in /Users/manoj/anaconda3/envs/pyspark/lib/python3.9/site-packages (from plotly>=5.0.0->dash) (1.15.0)\n",
      "Collecting typing-extensions>=4.1.1\n",
      "  Downloading typing_extensions-4.7.1-py3-none-any.whl (33 kB)\n",
      "Collecting Werkzeug<2.3.0\n",
      "  Downloading Werkzeug-2.2.3-py3-none-any.whl (233 kB)\n",
      "\u001b[K     |████████████████████████████████| 233 kB 18.0 MB/s eta 0:00:01\n",
      "\u001b[?25hCollecting ansi2html\n",
      "  Downloading ansi2html-1.8.0-py3-none-any.whl (16 kB)\n",
      "Requirement already satisfied: idna<4,>=2.5 in /Users/manoj/anaconda3/envs/pyspark/lib/python3.9/site-packages (from requests->dash) (3.2)\n",
      "Requirement already satisfied: urllib3<1.27,>=1.21.1 in /Users/manoj/anaconda3/envs/pyspark/lib/python3.9/site-packages (from requests->dash) (1.26.6)\n",
      "Requirement already satisfied: charset-normalizer~=2.0.0 in /Users/manoj/anaconda3/envs/pyspark/lib/python3.9/site-packages (from requests->dash) (2.0.4)\n",
      "Requirement already satisfied: certifi>=2017.4.17 in /Users/manoj/anaconda3/envs/pyspark/lib/python3.9/site-packages (from requests->dash) (2020.12.5)\n",
      "Collecting retrying\n",
      "  Downloading retrying-1.3.4-py3-none-any.whl (11 kB)\n",
      "Installing collected packages: MarkupSafe, Werkzeug, Jinja2, itsdangerous, importlib-metadata, typing-extensions, retrying, Flask, dash-table, dash-html-components, dash-core-components, ansi2html, dash\n",
      "  Attempting uninstall: MarkupSafe\n",
      "    Found existing installation: MarkupSafe 1.1.1\n",
      "    Uninstalling MarkupSafe-1.1.1:\n",
      "      Successfully uninstalled MarkupSafe-1.1.1\n",
      "  Attempting uninstall: Jinja2\n",
      "    Found existing installation: Jinja2 2.11.2\n",
      "    Uninstalling Jinja2-2.11.2:\n",
      "      Successfully uninstalled Jinja2-2.11.2\n",
      "  Attempting uninstall: importlib-metadata\n",
      "    Found existing installation: importlib-metadata 2.0.0\n",
      "    Uninstalling importlib-metadata-2.0.0:\n",
      "      Successfully uninstalled importlib-metadata-2.0.0\n",
      "Successfully installed Flask-2.2.5 Jinja2-3.1.2 MarkupSafe-2.1.3 Werkzeug-2.2.3 ansi2html-1.8.0 dash-2.12.1 dash-core-components-2.0.0 dash-html-components-2.0.0 dash-table-5.0.0 importlib-metadata-6.8.0 itsdangerous-2.1.2 retrying-1.3.4 typing-extensions-4.7.1\n"
     ]
    }
   ],
   "source": [
    "!pip install dash-mantine-components dash"
   ]
  },
  {
   "cell_type": "code",
   "execution_count": null,
   "metadata": {},
   "outputs": [],
   "source": []
  }
 ],
 "metadata": {
  "kernelspec": {
   "display_name": "pyspark",
   "language": "python",
   "name": "python3"
  },
  "language_info": {
   "codemirror_mode": {
    "name": "ipython",
    "version": 3
   },
   "file_extension": ".py",
   "mimetype": "text/x-python",
   "name": "python",
   "nbconvert_exporter": "python",
   "pygments_lexer": "ipython3",
   "version": "3.9.1"
  },
  "orig_nbformat": 4
 },
 "nbformat": 4,
 "nbformat_minor": 2
}
